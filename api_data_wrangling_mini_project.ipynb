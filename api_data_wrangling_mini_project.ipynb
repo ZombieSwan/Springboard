{
 "cells": [
  {
   "cell_type": "markdown",
   "metadata": {},
   "source": [
    "This exercise will require you to pull some data from https://data.nasdaq.com/ (formerly Quandl API)."
   ]
  },
  {
   "cell_type": "markdown",
   "metadata": {},
   "source": [
    "As a first step, you will need to register a free account on the https://data.nasdaq.com/ website."
   ]
  },
  {
   "cell_type": "markdown",
   "metadata": {},
   "source": [
    "After you register, you will be provided with a unique API key, that you should store:\n",
    "\n",
    "*Note*: Use a `.env` file and put your key in there and `python-dotenv` to access it in this notebook. \n",
    "\n",
    "The code below uses a key that was used when generating this project but has since been deleted. Never submit your keys to source control. There is a `.env-example` file in this repository to illusrtate what you need. Copy that to a file called `.env` and use your own api key in that `.env` file. Make sure you also have a `.gitignore` file with a line for `.env` added to it. \n",
    "\n",
    "The standard Python gitignore is [here](https://github.com/github/gitignore/blob/master/Python.gitignore) you can just copy that. "
   ]
  },
  {
   "cell_type": "code",
   "execution_count": 1,
   "metadata": {},
   "outputs": [
    {
     "name": "stdout",
     "output_type": "stream",
     "text": [
      "Path to .env file: .env\n"
     ]
    }
   ],
   "source": [
    "import pathlib\n",
    "\n",
    "env_path = pathlib.Path('.') / '.env'\n",
    "print(\"Path to .env file:\", env_path)\n"
   ]
  },
  {
   "cell_type": "code",
   "execution_count": 2,
   "metadata": {},
   "outputs": [
    {
     "name": "stdout",
     "output_type": "stream",
     "text": [
      "mE2KTdpKjyUmjViMJEye\n"
     ]
    }
   ],
   "source": [
    "# get api key from your .env file\n",
    "import os\n",
    "from dotenv import load_dotenv\n",
    "\n",
    "load_dotenv()\n",
    "\n",
    "API_KEY = os.getenv('NASDAQ_API_KEY')\n",
    "\n",
    "\n",
    "print(API_KEY)"
   ]
  },
  {
   "cell_type": "markdown",
   "metadata": {},
   "source": [
    "Nasdaq Data has a large number of data sources, but, unfortunately, most of them require a Premium subscription. Still, there are also a good number of free datasets."
   ]
  },
  {
   "cell_type": "markdown",
   "metadata": {},
   "source": [
    "For this mini project, we will focus on equities data from the Frankfurt Stock Exhange (FSE), which is available for free. We'll try and analyze the stock prices of a company called Carl Zeiss Meditec, which manufactures tools for eye examinations, as well as medical lasers for laser eye surgery: https://www.zeiss.com/meditec/int/home.html. The company is listed under the stock ticker AFX_X."
   ]
  },
  {
   "cell_type": "markdown",
   "metadata": {},
   "source": [
    "You can find the detailed Nasdaq Data API instructions here: https://docs.data.nasdaq.com/docs/in-depth-usage"
   ]
  },
  {
   "cell_type": "markdown",
   "metadata": {},
   "source": [
    "While there is a dedicated Python package for connecting to the Nasdaq API, we would prefer that you use the *requests* package, which can be easily downloaded using *pip* or *conda*. You can find the documentation for the package here: http://docs.python-requests.org/en/master/ "
   ]
  },
  {
   "cell_type": "markdown",
   "metadata": {},
   "source": [
    "Finally, apart from the *requests* package, you are encouraged to not use any third party Python packages, such as *pandas*, and instead focus on what's available in the Python Standard Library (the *collections* module might come in handy: https://pymotw.com/3/collections/).\n",
    "Also, since you won't have access to DataFrames, you are encouraged to us Python's native data structures - preferably dictionaries, though some questions can also be answered using lists.\n",
    "You can read more on these data structures here: https://docs.python.org/3/tutorial/datastructures.html"
   ]
  },
  {
   "cell_type": "markdown",
   "metadata": {},
   "source": [
    "Keep in mind that the JSON responses you will be getting from the API map almost one-to-one to Python's dictionaries. Unfortunately, they can be very nested, so make sure you read up on indexing dictionaries in the documentation provided above."
   ]
  },
  {
   "cell_type": "code",
   "execution_count": 3,
   "metadata": {},
   "outputs": [],
   "source": [
    "# First, import the relevant modules\n",
    "import requests\n",
    "import json"
   ]
  },
  {
   "cell_type": "markdown",
   "metadata": {},
   "source": [
    "Note: API's can change a bit with each version, for this exercise it is reccomended to use the nasdaq api at `https://data.nasdaq.com/api/v3/`. This is the same api as what used to be quandl so `https://www.quandl.com/api/v3/` should work too.\n",
    "\n",
    "Hint: We are looking for the `AFX_X` data on the `datasets/FSE/` dataset."
   ]
  },
  {
   "cell_type": "code",
   "execution_count": 19,
   "metadata": {},
   "outputs": [],
   "source": [
    "# Now, call the Nasdaq API and pull out a small sample of the data (only one day) to get a glimpse\n",
    "# into the JSON structure that will be returned\n",
    "\n",
    "url = \"https://data.nasdaq.com/api/v3/datasets/FSE/AFX_X/data.json\"\n",
    "api_key = \"mE2KTdpKjyUmjViMJEye\"  \n",
    "\n",
    "params = {\n",
    "    \"start_date\": \"2008-10-09\",  #2 days of data\n",
    "    \"end_date\": \"2008-10-10\",\n",
    "    \"api_key\": api_key,\n",
    "}\n",
    "\n",
    "response = requests.get(url, params=params)\n"
   ]
  },
  {
   "cell_type": "code",
   "execution_count": 20,
   "metadata": {},
   "outputs": [
    {
     "name": "stdout",
     "output_type": "stream",
     "text": [
      "200\n"
     ]
    }
   ],
   "source": [
    "print(response.status_code)"
   ]
  },
  {
   "cell_type": "code",
   "execution_count": 21,
   "metadata": {
    "collapsed": true
   },
   "outputs": [
    {
     "name": "stdout",
     "output_type": "stream",
     "text": [
      "{\n",
      "    \"dataset_data\": {\n",
      "        \"limit\": null,\n",
      "        \"transform\": null,\n",
      "        \"column_index\": null,\n",
      "        \"column_names\": [\n",
      "            \"Date\",\n",
      "            \"Open\",\n",
      "            \"High\",\n",
      "            \"Low\",\n",
      "            \"Close\",\n",
      "            \"Change\",\n",
      "            \"Traded Volume\",\n",
      "            \"Turnover\",\n",
      "            \"Last Price of the Day\",\n",
      "            \"Daily Traded Units\",\n",
      "            \"Daily Turnover\"\n",
      "        ],\n",
      "        \"start_date\": \"2008-10-09\",\n",
      "        \"end_date\": \"2008-10-10\",\n",
      "        \"frequency\": \"daily\",\n",
      "        \"data\": [\n",
      "            [\n",
      "                \"2008-10-10\",\n",
      "                7.8,\n",
      "                8.85,\n",
      "                7.42,\n",
      "                8.85,\n",
      "                null,\n",
      "                305001.0,\n",
      "                2507813.0,\n",
      "                null,\n",
      "                null,\n",
      "                null\n",
      "            ],\n",
      "            [\n",
      "                \"2008-10-09\",\n",
      "                9.26,\n",
      "                9.64,\n",
      "                8.68,\n",
      "                8.68,\n",
      "                null,\n",
      "                267274.0,\n",
      "                2495652.0,\n",
      "                null,\n",
      "                null,\n",
      "                null\n",
      "            ]\n",
      "        ],\n",
      "        \"collapse\": null,\n",
      "        \"order\": null\n",
      "    }\n",
      "}\n"
     ]
    }
   ],
   "source": [
    "# Inspect the JSON structure of the object you created, and take note of how nested it is,\n",
    "# as well as the overall structure\n",
    "data = response.json()\n",
    "print(json.dumps(data, indent=4))"
   ]
  },
  {
   "cell_type": "markdown",
   "metadata": {},
   "source": [
    "These are your tasks for this mini project:\n",
    "\n",
    "1. Collect data from the Franfurt Stock Exchange, for the ticker AFX_X, for the whole year 2017 (keep in mind that the date format is YYYY-MM-DD).\n",
    "2. Convert the returned JSON object into a Python dictionary.\n",
    "3. Calculate what the highest and lowest opening prices were for the stock in this period.\n",
    "4. What was the largest change in any one day (based on High and Low price)?\n",
    "5. What was the largest change between any two days (based on Closing Price)?\n",
    "6. What was the average daily trading volume during this year?\n",
    "7. (Optional) What was the median trading volume during this year. (Note: you may need to implement your own function for calculating the median.)"
   ]
  },
  {
   "cell_type": "code",
   "execution_count": 10,
   "metadata": {},
   "outputs": [],
   "source": [
    "url = \"https://data.nasdaq.com/api/v3/datasets/FSE/AFX_X/data.json\"\n",
    "api_key = \"mE2KTdpKjyUmjViMJEye\" \n",
    "\n",
    "# 1. Collect 2017 data\n",
    "\n",
    "params = {\n",
    "    \"start_date\": \"2017-01-01\",  \n",
    "    \"end_date\": \"2017-12-31\",\n",
    "    \"api_key\": api_key,\n",
    "}\n",
    "\n",
    "# Make a GET request to the API to fetch the data for the given date range\n",
    "\n",
    "response = requests.get(url, params=params)\n"
   ]
  },
  {
   "cell_type": "code",
   "execution_count": 11,
   "metadata": {},
   "outputs": [],
   "source": [
    "# 2. Convert JSON object into a dictionary\n",
    "# Parse the JSON response from the API and extract the daily prices into 'stock_data'\n",
    "\n",
    "data = response.json()\n",
    "stock_data = data['dataset_data']['data']\n"
   ]
  },
  {
   "cell_type": "code",
   "execution_count": 12,
   "metadata": {},
   "outputs": [
    {
     "name": "stdout",
     "output_type": "stream",
     "text": [
      "Highest opening price: 53.11\n",
      "Lowest opening price: 34.0\n"
     ]
    }
   ],
   "source": [
    "# 3. Calculate highest and lowest opening prices by iterating through `stock_data`\n",
    "# and find max and min\n",
    "\n",
    "opening_prices = [daily_data[1] for daily_data in stock_data if daily_data[1] is not None]\n",
    "highest_opening = max(opening_prices)\n",
    "lowest_opening = min(opening_prices)\n",
    "print(\"Highest opening price:\", highest_opening)\n",
    "print(\"Lowest opening price:\", lowest_opening)\n"
   ]
  },
  {
   "cell_type": "code",
   "execution_count": 13,
   "metadata": {},
   "outputs": [
    {
     "name": "stdout",
     "output_type": "stream",
     "text": [
      "Largest change in any one day: 2.8100000000000023\n"
     ]
    }
   ],
   "source": [
    "# 4. Calculate the largest change in any one day (based on High and Low price)\n",
    "# Create a list of daily changes by subtracting the daily low price from the daily high price. \n",
    "# We then find the maximum value in the list\n",
    "\n",
    "daily_changes = [daily_data[2] - daily_data[3] for daily_data in stock_data]\n",
    "largest_change = max(daily_changes)\n",
    "print(\"Largest change in any one day:\", largest_change)\n"
   ]
  },
  {
   "cell_type": "code",
   "execution_count": 22,
   "metadata": {},
   "outputs": [
    {
     "name": "stdout",
     "output_type": "stream",
     "text": [
      "Largest change between any two days (Closing Price): 2.559999999999995\n"
     ]
    }
   ],
   "source": [
    "# 5. Calculate the largest change between any two days based on Closing Price\n",
    "# Create a list a list of closing prices, and then we create a list of closing price changes by subtracting \n",
    "# the closing price of the current day from the closing price of the next day\n",
    "\n",
    "closing_prices = [daily_data[4] for daily_data in stock_data]\n",
    "closing_changes = [abs(closing_prices[i+1] - closing_prices[i]) for i in range(len(closing_prices) - 1)]\n",
    "largest_closing_change = max(closing_changes)\n",
    "print(\"Largest change between any two days (Closing Price):\", largest_closing_change)\n"
   ]
  },
  {
   "cell_type": "code",
   "execution_count": 14,
   "metadata": {},
   "outputs": [
    {
     "name": "stdout",
     "output_type": "stream",
     "text": [
      "Average daily trading volume: 89124.33725490196\n"
     ]
    }
   ],
   "source": [
    "# Calculate the average daily trading volume\n",
    "# create a list of trading volumes by iterating through the stock_data. \n",
    "# then calculate the average trading volume by dividing the sum of the trading volumes by the lenght of the list.\n",
    "\n",
    "trading_volumes = [daily_data[6] for daily_data in stock_data]\n",
    "average_trading_volume = sum(trading_volumes) / len(trading_volumes)\n",
    "print(\"Average daily trading volume:\", average_trading_volume)\n"
   ]
  },
  {
   "cell_type": "code",
   "execution_count": 24,
   "metadata": {},
   "outputs": [
    {
     "name": "stdout",
     "output_type": "stream",
     "text": [
      "Median trading volume: 76286.0\n"
     ]
    }
   ],
   "source": [
    "# Calculate the median trading volume\n",
    "# first sort the values, and then we check if the number of values is even or odd. \n",
    "# If it's even, we calculate the median as the average of the two middle elements. \n",
    "# If it's odd, we take the middle element as the median\n",
    "\n",
    "def find_median(values):\n",
    "    \"\"\"find_median to calculate the median of a list of values\"\"\"\n",
    "    \n",
    "    sorted_values = sorted(values)\n",
    "    n = len(sorted_values)\n",
    "    if n % 2 == 0:\n",
    "        median = (sorted_values[n//2 - 1] + sorted_values[n//2]) / 2\n",
    "    else:\n",
    "        median = sorted_values[n//2]\n",
    "    return median\n",
    "\n",
    "median_trading_volume = find_median(trading_volumes)\n",
    "print(\"Median trading volume:\", median_trading_volume)\n"
   ]
  }
 ],
 "metadata": {
  "interpreter": {
   "hash": "7635eb1b9d0fe97add78a7368b6b431c09bb8ad5c42e437d64abdd99821c31ae"
  },
  "kernelspec": {
   "display_name": "Python 3 (ipykernel)",
   "language": "python",
   "name": "python3"
  },
  "language_info": {
   "codemirror_mode": {
    "name": "ipython",
    "version": 3
   },
   "file_extension": ".py",
   "mimetype": "text/x-python",
   "name": "python",
   "nbconvert_exporter": "python",
   "pygments_lexer": "ipython3",
   "version": "3.11.0"
  }
 },
 "nbformat": 4,
 "nbformat_minor": 4
}
