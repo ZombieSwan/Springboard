{
 "cells": [
  {
   "cell_type": "code",
   "execution_count": 1,
   "id": "6eac7515",
   "metadata": {},
   "outputs": [
    {
     "name": "stdout",
     "output_type": "stream",
     "text": [
      "2.6.0\n",
      "2. Query all tasks\n",
      "(0, 'Tennis Court 1', 5, 25, 10000, 200)\n",
      "(1, 'Tennis Court 2', 5, 25, 8000, 200)\n",
      "(2, 'Badminton Court', 0, 15.5, 4000, 50)\n",
      "(3, 'Table Tennis', 0, 5, 320, 10)\n",
      "(4, 'Massage Room 1', 9.9, 80, 4000, 3000)\n",
      "(5, 'Massage Room 2', 9.9, 80, 4000, 3000)\n",
      "(6, 'Squash Court', 3.5, 17.5, 5000, 80)\n",
      "(7, 'Snooker Table', 0, 5, 450, 15)\n",
      "(8, 'Pool Table', 0, 5, 400, 15)\n"
     ]
    }
   ],
   "source": [
    "# Copy and paste the LocalSQLConnection.py script into an empty Jupyter notebook, and run it. \n",
    "\n",
    "import sqlite3\n",
    "from sqlite3 import Error\n",
    "\n",
    " \n",
    "def create_connection(db_file):\n",
    "    \"\"\" create a database connection to the SQLite database\n",
    "        specified by the db_file\n",
    "    :param db_file: database file\n",
    "    :return: Connection object or None\n",
    "    \"\"\"\n",
    "    conn = None\n",
    "    try:\n",
    "        conn = sqlite3.connect(db_file)\n",
    "        print(sqlite3.version)\n",
    "    except Error as e:\n",
    "        print(e)\n",
    " \n",
    "    return conn\n",
    "\n",
    " \n",
    "def select_all_tasks(conn):\n",
    "    \"\"\"\n",
    "    Query all rows in the tasks table\n",
    "    :param conn: the Connection object\n",
    "    :return:\n",
    "    \"\"\"\n",
    "    cur = conn.cursor()\n",
    "    \n",
    "    query1 = \"\"\"\n",
    "        SELECT *\n",
    "        FROM FACILITIES\n",
    "        \"\"\"\n",
    "    cur.execute(query1)\n",
    " \n",
    "    rows = cur.fetchall()\n",
    " \n",
    "    for row in rows:\n",
    "        print(row)\n",
    "\n",
    "\n",
    "def main():\n",
    "    database = \"sqlite_db_pythonsqlite.db\"\n",
    " \n",
    "    # create a database connection\n",
    "    conn = create_connection(database)\n",
    "    with conn: \n",
    "        print(\"2. Query all tasks\")\n",
    "        select_all_tasks(conn)\n",
    " \n",
    " \n",
    "if __name__ == '__main__':\n",
    "    main()"
   ]
  },
  {
   "cell_type": "code",
   "execution_count": 2,
   "id": "22badb7d",
   "metadata": {},
   "outputs": [],
   "source": [
    "# import libraries and connect to the SQLite database.\n",
    "\n",
    "import sqlite3\n",
    "import pandas as pd\n",
    "\n",
    "# Connect to the database\n",
    "conn = sqlite3.connect(\"C:\\\\Users\\\\restr\\\\Documents\\\\Springboard\\\\dsc\\\\Unit 8 - SQL & Databases\\\\8.3 SQL Case Study - Country Club\\\\SQLFiles Tier 1\\\\sqlite_db_pythonsqlite.db\")\n",
    "\n",
    "# Function to execute query and return results in a pandas DataFrame\n",
    "def execute_query(query):\n",
    "    return pd.read_sql_query(query, conn)\n"
   ]
  },
  {
   "cell_type": "code",
   "execution_count": 3,
   "id": "742c6ae7",
   "metadata": {},
   "outputs": [
    {
     "name": "stdout",
     "output_type": "stream",
     "text": [
      "            name  revenue\n",
      "0   Table Tennis      180\n",
      "1  Snooker Table      240\n",
      "2     Pool Table      270\n"
     ]
    }
   ],
   "source": [
    "#Use the CASE statement within the SUM function to differentiate between member bookings (memid not equal to 0) \n",
    "# and guest bookings (memid equals 0). For member bookings, \n",
    "# we multiply the membercost with slots; for guest bookings, we multiply the guestcost with slots.\n",
    "# Use HAVING clause to filter out facilities that made a revenue of 1000 or more.\n",
    "\n",
    "query10 = \"\"\"\n",
    "SELECT name, \n",
    "       SUM(CASE WHEN memid = 0 THEN guestcost * slots \n",
    "                ELSE membercost * slots END) AS revenue\n",
    "FROM Bookings\n",
    "INNER JOIN Facilities ON Bookings.facid = Facilities.facid\n",
    "GROUP BY name\n",
    "HAVING revenue < 1000\n",
    "ORDER BY revenue;\n",
    "\"\"\"\n",
    "df10 = execute_query(query10)\n",
    "print(df10)\n"
   ]
  },
  {
   "cell_type": "code",
   "execution_count": 4,
   "id": "1aefbe66",
   "metadata": {},
   "outputs": [
    {
     "name": "stdout",
     "output_type": "stream",
     "text": [
      "                      member      recommended_by\n",
      "0            Bader, Florence    Stibbons, Ponder\n",
      "1                Baker, Anne    Stibbons, Ponder\n",
      "2             Baker, Timothy     Farrell, Jemima\n",
      "3                Boothe, Tim         Rownam, Tim\n",
      "4            Butters, Gerald       Smith, Darren\n",
      "5               Coplin, Joan      Baker, Timothy\n",
      "6             Crumpet, Erica        Smith, Tracy\n",
      "7                Dare, Nancy    Joplette, Janice\n",
      "8           Genting, Matthew     Butters, Gerald\n",
      "9                 Hunt, John  Purview, Millicent\n",
      "10              Jones, David    Joplette, Janice\n",
      "11            Jones, Douglas        Jones, David\n",
      "12          Joplette, Janice       Smith, Darren\n",
      "13           Mackenzie, Anna       Smith, Darren\n",
      "14             Owen, Charles       Smith, Darren\n",
      "15             Pinker, David     Farrell, Jemima\n",
      "16        Purview, Millicent        Smith, Tracy\n",
      "17         Rumney, Henrietta    Genting, Matthew\n",
      "18         Sarwin, Ramnaresh     Bader, Florence\n",
      "19               Smith, Jack       Smith, Darren\n",
      "20          Stibbons, Ponder       Tracy, Burton\n",
      "21  Worthington-Smyth, Henry        Smith, Tracy\n"
     ]
    }
   ],
   "source": [
    "# Join the Members table with itself. The join is on recommendedby and memid.\n",
    "#Select the full name of the member (m1.surname || ', ' || m1.firstname) and the full name of the member who recommended \n",
    "#them (m2.surname || ', ' || m2.firstname).\n",
    "# Use the WHERE clause to exclude members who were not recommended by anyone.\n",
    "\n",
    "query11 = \"\"\"\n",
    "SELECT m1.surname || ', ' || m1.firstname AS member, \n",
    "       m2.surname || ', ' || m2.firstname AS recommended_by\n",
    "FROM Members m1\n",
    "INNER JOIN Members m2 ON m1.recommendedby = m2.memid\n",
    "WHERE m1.recommendedby IS NOT NULL AND m1.recommendedby != ''\n",
    "ORDER BY member;\n",
    "\"\"\"\n",
    "df11 = execute_query(query11)\n",
    "print(df11)\n"
   ]
  },
  {
   "cell_type": "code",
   "execution_count": 5,
   "id": "9f8da758",
   "metadata": {},
   "outputs": [
    {
     "name": "stdout",
     "output_type": "stream",
     "text": [
      "              name  member_usage\n",
      "0  Badminton Court           344\n",
      "1   Massage Room 1           421\n",
      "2   Massage Room 2            27\n",
      "3       Pool Table           783\n",
      "4    Snooker Table           421\n",
      "5     Squash Court           195\n",
      "6     Table Tennis           385\n",
      "7   Tennis Court 1           308\n",
      "8   Tennis Court 2           276\n"
     ]
    }
   ],
   "source": [
    "# Join the Bookings table with the Facilities table based on facid.\n",
    "# Use the WHERE clause to exclude guest bookings (memid equals 0).\n",
    "# Group by name of the facility and count the number of bookings for each.\n",
    "\n",
    "query12 = \"\"\"\n",
    "SELECT name, COUNT(*) AS member_usage\n",
    "FROM Bookings\n",
    "INNER JOIN Facilities ON Bookings.facid = Facilities.facid\n",
    "WHERE memid != 0\n",
    "GROUP BY name;\n",
    "\"\"\"\n",
    "df12 = execute_query(query12)\n",
    "print(df12)\n"
   ]
  },
  {
   "cell_type": "code",
   "execution_count": 6,
   "id": "f9c63863",
   "metadata": {},
   "outputs": [
    {
     "name": "stdout",
     "output_type": "stream",
     "text": [
      "               name month  usage\n",
      "0   Badminton Court    07     51\n",
      "1   Badminton Court    08    132\n",
      "2   Badminton Court    09    161\n",
      "3    Massage Room 1    07     77\n",
      "4    Massage Room 1    08    153\n",
      "5    Massage Room 1    09    191\n",
      "6    Massage Room 2    07      4\n",
      "7    Massage Room 2    08      9\n",
      "8    Massage Room 2    09     14\n",
      "9        Pool Table    07    103\n",
      "10       Pool Table    08    272\n",
      "11       Pool Table    09    408\n",
      "12    Snooker Table    07     68\n",
      "13    Snooker Table    08    154\n",
      "14    Snooker Table    09    199\n",
      "15     Squash Court    07     23\n",
      "16     Squash Court    08     85\n",
      "17     Squash Court    09     87\n",
      "18     Table Tennis    07     48\n",
      "19     Table Tennis    08    143\n",
      "20     Table Tennis    09    194\n",
      "21   Tennis Court 1    07     65\n",
      "22   Tennis Court 1    08    111\n",
      "23   Tennis Court 1    09    132\n",
      "24   Tennis Court 2    07     41\n",
      "25   Tennis Court 2    08    109\n",
      "26   Tennis Court 2    09    126\n"
     ]
    }
   ],
   "source": [
    "# Join the Bookings table with the Facilities table based on facid.\n",
    "# Use the WHERE clause to exclude guest bookings (memid equals 0).\n",
    "# Group by name of the facility and count the number of bookings for each.\n",
    "\n",
    "query13 = \"\"\"\n",
    "SELECT name, strftime('%m', starttime) AS month, COUNT(*) AS usage\n",
    "FROM Bookings\n",
    "INNER JOIN Facilities ON Bookings.facid = Facilities.facid\n",
    "WHERE memid != 0\n",
    "GROUP BY name, month;\n",
    "\"\"\"\n",
    "df13 = execute_query(query13)\n",
    "print(df13)\n"
   ]
  },
  {
   "cell_type": "code",
   "execution_count": 8,
   "id": "10909799",
   "metadata": {},
   "outputs": [],
   "source": [
    "# Close connection\n",
    "\n",
    "conn.close()"
   ]
  }
 ],
 "metadata": {
  "kernelspec": {
   "display_name": "Python 3 (ipykernel)",
   "language": "python",
   "name": "python3"
  },
  "language_info": {
   "codemirror_mode": {
    "name": "ipython",
    "version": 3
   },
   "file_extension": ".py",
   "mimetype": "text/x-python",
   "name": "python",
   "nbconvert_exporter": "python",
   "pygments_lexer": "ipython3",
   "version": "3.11.3"
  }
 },
 "nbformat": 4,
 "nbformat_minor": 5
}
